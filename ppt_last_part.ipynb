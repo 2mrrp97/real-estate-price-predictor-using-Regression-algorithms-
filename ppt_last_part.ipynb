{
 "cells": [
  {
   "cell_type": "code",
   "execution_count": 1,
   "id": "f2e0c84c",
   "metadata": {
    "scrolled": true
   },
   "outputs": [
    {
     "name": "stdout",
     "output_type": "stream",
     "text": [
      "Index(['area_type', 'availability', 'location', 'size', 'society',\n",
      "       'total_sqft', 'bath', 'balcony', 'price'],\n",
      "      dtype='object') \n",
      "Total No. of features :  8\n",
      "\n",
      "Features after keeping needed features\n",
      "\n",
      "Index(['location', 'size', 'total_sqft', 'price', 'balcony'], dtype='object')\n",
      "\n",
      "First 5 rows of New data frame after keeping needed features\n",
      "\n",
      "                   location       size total_sqft   price  balcony\n",
      "0  Electronic City Phase II      2 BHK       1056   39.07      1.0\n",
      "1                       NaN  4 Bedroom       2600  120.00      3.0\n",
      "2               Uttarahalli      3 BHK  1000-1440   62.00      3.0\n",
      "3        Lingadheeranahalli      3 BHK       1521   95.00      1.0\n",
      "4                  Kothanur      2 BHK   3456sqft   51.00      1.0\n",
      "5                Whitefield      2 BHK       1170   38.00      1.0\n"
     ]
    }
   ],
   "source": [
    "import pandas as pd \n",
    "import numpy as np \n",
    "import matplotlib.pyplot as plt \n",
    "\n",
    "%matplotlib inline\n",
    "\n",
    "\n",
    "df = pd.read_csv('Blr.csv')\n",
    "print(df.keys(), \"\\nTotal No. of features : \",len(df.keys()) - 1)\n",
    "\n",
    "\n",
    "df = df.filter(['location', 'size','total_sqft', 'price','balcony'])\n",
    "print(\"\\nFeatures after keeping needed features\\n\")\n",
    "print(df.keys())\n",
    "\n",
    "print(\"\\nFirst 5 rows of New data frame after keeping needed features \\n\")\n",
    "print(df.head(6))"
   ]
  },
  {
   "cell_type": "code",
   "execution_count": 2,
   "id": "cb628198",
   "metadata": {},
   "outputs": [
    {
     "name": "stdout",
     "output_type": "stream",
     "text": [
      "                   location  size  total_sqft  price  balcony          pps\n",
      "0  Electronic City Phase II   2.0      1056.0  39.07      1.0  3699.810606\n",
      "2               Uttarahalli   3.0      1220.0  62.00      3.0  5081.967213\n",
      "3        Lingadheeranahalli   3.0      1521.0  95.00      1.0  6245.890861\n",
      "4                  Kothanur   2.0      3456.0  51.00      1.0  1475.694444\n",
      "5                Whitefield   2.0      1170.0  38.00      1.0  3247.863248\n"
     ]
    },
    {
     "data": {
      "text/plain": [
       "(12709, 6)"
      ]
     },
     "execution_count": 2,
     "metadata": {},
     "output_type": "execute_result"
    }
   ],
   "source": [
    "def format_area(area):\n",
    "    parameter_type = type(area)\n",
    "    if parameter_type == type(1.0) or parameter_type == type(1) : return area\n",
    "    \n",
    "    token = area.split(\"-\")\n",
    "    if len(token) == 1 :\n",
    "        return area \n",
    "    else:\n",
    "        return (float(token[0]) + float(token[1])) / 2\n",
    "\n",
    "def format_size(size):\n",
    "    if type(size) == type(1.0) or type(size) == type(1) : return size \n",
    "    if not size : return 0 \n",
    "    ans = 0 \n",
    "    i = 0 \n",
    "    \n",
    "    \n",
    "    while i < len(size):\n",
    "        while i < len(size) and size[i].isdigit():\n",
    "            ans = ans*10 + int(size[i])\n",
    "            i += 1\n",
    "        \n",
    "        i += 1\n",
    "        \n",
    "    return ans \n",
    "    \n",
    "\n",
    "df[\"total_sqft\"] = df[\"total_sqft\"].apply(format_area)\n",
    "df[\"total_sqft\"] = df[\"total_sqft\"].apply(format_size)\n",
    "df[\"size\"] = df[\"size\"].apply(lambda x : x if type(x) == type(1.0) else float(x.split(\" \")[0]))\n",
    "\n",
    "\n",
    "df.isna().sum()\n",
    "df = df.dropna()\n",
    "\n",
    "\"\"\"\n",
    "plt.xlabel(\" Price per sqft\")\n",
    "plt.ylabel(\" Price \")\n",
    "plt.scatter(df[\"pps\"][:20] , df[\"price\"][:20] , color='black' ,  marker ='o')\n",
    "\"\"\"\n",
    "\n",
    "\n",
    "df[\"pps\"] = df['price']*100000 / df[\"total_sqft\"]\n",
    "print(df.head())\n",
    "df.shape"
   ]
  },
  {
   "cell_type": "code",
   "execution_count": 4,
   "id": "8a4d9d1e",
   "metadata": {
    "scrolled": true
   },
   "outputs": [],
   "source": [
    "\n",
    "def remv_pps_outliers2_stdDev(df):\n",
    "    new_df = pd.DataFrame()\n",
    "    for key, subdf in df.groupby('location'):\n",
    "        m = np.mean(subdf.pps)\n",
    "        st = np.std(subdf.pps)\n",
    "        reduced_df = subdf[(subdf.pps>(m-st)) & (subdf.pps<=(m+st))]\n",
    "        new_df = pd.concat([new_df,reduced_df],ignore_index=True)\n",
    "    return new_df\n",
    "\n",
    "\n",
    "def remv_pps_outliers_logic(df):\n",
    "    df_res = pd.DataFrame()\n",
    "    new_df = df[(df.pps >= 1000) & (df.pps <= 50000)]\n",
    "    df_res = pd.concat([df_res , new_df] , ignore_index = True)\n",
    "\n",
    "    return df_res\n",
    "\n",
    "\n",
    "df2 = remv_pps_outliers_logic(df)\n",
    "df4 = remv_pps_outliers2_stdDev(df2)\n"
   ]
  },
  {
   "cell_type": "code",
   "execution_count": 5,
   "id": "791b2e08",
   "metadata": {},
   "outputs": [
    {
     "data": {
      "text/plain": [
       "count     9431.000000\n",
       "mean      5823.687745\n",
       "std       2744.064499\n",
       "min       1250.000000\n",
       "25%       4251.083985\n",
       "50%       5200.000000\n",
       "75%       6500.000000\n",
       "max      50000.000000\n",
       "Name: pps, dtype: float64"
      ]
     },
     "execution_count": 5,
     "metadata": {},
     "output_type": "execute_result"
    }
   ],
   "source": [
    "df4.pps.describe()"
   ]
  },
  {
   "cell_type": "code",
   "execution_count": 6,
   "id": "ec9b8788",
   "metadata": {
    "scrolled": true
   },
   "outputs": [
    {
     "name": "stdout",
     "output_type": "stream",
     "text": [
      "Entries with <= threshold data points  1873\n",
      "New number of unique Locations After grouping :  184\n"
     ]
    }
   ],
   "source": [
    "# similar to sql query : select Location , count(*) from df groupby Location\n",
    "location_counts = df4.groupby('location')['location'].agg('count')\n",
    "\n",
    "\n",
    "print(\"Entries with <= threshold data points \",sum(location_counts[location_counts <= 10]))\n",
    "rename_as_others = location_counts[location_counts  <=10]\n",
    "df4.location = df4.location.apply(lambda x : \"others\" if x in rename_as_others else x)\n",
    "\n",
    "print(\"New number of unique Locations After grouping : \",len(df4.location.unique()))\n"
   ]
  },
  {
   "cell_type": "code",
   "execution_count": 11,
   "id": "c6abacba",
   "metadata": {
    "scrolled": true
   },
   "outputs": [
    {
     "name": "stdout",
     "output_type": "stream",
     "text": [
      "Score  0.7381065478237536\n",
      "root Mean squared error:  47.88265712635865\n"
     ]
    }
   ],
   "source": [
    "dummy_locations = pd.get_dummies(df4.location)\n",
    "\n",
    "df_temp = df4.drop(labels = [\"location\" , \"pps\"] , axis = 'columns')\n",
    "final_df = pd.concat([dummy_locations , df_temp] , axis = \"columns\")\n",
    "\n",
    "x = final_df.drop(labels = \"price\" , axis = 'columns')\n",
    "y = final_df[\"price\"]\n",
    "\n",
    "from sklearn.model_selection import train_test_split\n",
    "from sklearn.linear_model import LinearRegression\n",
    "\n",
    "\n",
    "x_train, x_test, y_train, y_test = train_test_split(\n",
    " x, y, test_size=0.33, random_state=42)\n",
    "\n",
    "\n",
    "model = LinearRegression()\n",
    "model.fit(x_train , y_train)\n",
    "\n",
    "y_predicted = model.predict(x_test) \n",
    "\n",
    "from math import sqrt\n",
    "from sklearn.metrics import mean_squared_error\n",
    "\n",
    "print(\"Score \",model.score(x_test , y_test))\n",
    "print('root Mean squared error: ', math.sqrt(mean_squared_error(y_test, y_predicted)))\n"
   ]
  },
  {
   "cell_type": "raw",
   "id": "432fb163",
   "metadata": {},
   "source": []
  },
  {
   "cell_type": "code",
   "execution_count": 8,
   "id": "a1fefc73",
   "metadata": {},
   "outputs": [
    {
     "name": "stdout",
     "output_type": "stream",
     "text": [
      "total Entries  12585\n",
      "Index([' Devarachikkanahalli', '1st Phase JP Nagar', '2nd Stage Nagarbhavi',\n",
      "       '5th Phase JP Nagar', '6th Phase JP Nagar', '7th Phase JP Nagar',\n",
      "       '8th Phase JP Nagar', '9th Phase JP Nagar', 'Abbigere', 'Akshaya Nagar',\n",
      "       ...\n",
      "       'Vittasandra', 'Whitefield', 'Yelachenahalli', 'Yelahanka',\n",
      "       'Yelahanka New Town', 'Yeshwanthpur', 'others', 'size', 'total_sqft',\n",
      "       'balcony'],\n",
      "      dtype='object', length=187)\n"
     ]
    }
   ],
   "source": [
    "print(\"total Entries \",len(df2))\n",
    "print(x_train.keys())\n"
   ]
  },
  {
   "cell_type": "code",
   "execution_count": 12,
   "id": "8c48dcb6",
   "metadata": {},
   "outputs": [
    {
     "name": "stdout",
     "output_type": "stream",
     "text": [
      "51.82720184326172  lakhs \n"
     ]
    }
   ],
   "source": [
    "def predict(location , size , total_sqft , balcony):\n",
    "    \n",
    "    loc_index = x_train.columns.get_loc(location)\n",
    "    size_index = x_train.columns.get_loc(\"size\")\n",
    "    sqft_index = x_train.columns.get_loc(\"total_sqft\")\n",
    "    bal_index = x_train.columns.get_loc(\"balcony\")\n",
    "    \n",
    "    x = [0]*len(x_train.columns)\n",
    "\n",
    "    x[loc_index] = 1\n",
    "    x[size_index] = size \n",
    "    x[sqft_index] = total_sqft \n",
    "    x[bal_index] = balcony \n",
    "    \n",
    "    return model.predict([x])[0]\n",
    "\n",
    "\n",
    "print(predict(\"Uttarahalli\", 3.0 , 1220.0 , 3.0) , \" lakhs \")"
   ]
  },
  {
   "cell_type": "code",
   "execution_count": null,
   "id": "77cbd566",
   "metadata": {},
   "outputs": [],
   "source": []
  },
  {
   "cell_type": "code",
   "execution_count": null,
   "id": "352228d8",
   "metadata": {},
   "outputs": [],
   "source": []
  }
 ],
 "metadata": {
  "kernelspec": {
   "display_name": "Python 3",
   "language": "python",
   "name": "python3"
  },
  "language_info": {
   "codemirror_mode": {
    "name": "ipython",
    "version": 3
   },
   "file_extension": ".py",
   "mimetype": "text/x-python",
   "name": "python",
   "nbconvert_exporter": "python",
   "pygments_lexer": "ipython3",
   "version": "3.9.5"
  }
 },
 "nbformat": 4,
 "nbformat_minor": 5
}
